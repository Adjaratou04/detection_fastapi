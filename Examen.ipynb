{
 "cells": [
  {
   "cell_type": "markdown",
   "id": "f2e87bc4",
   "metadata": {},
   "source": [
    "<div style=\" background-color: green\" >\n",
    "\n",
    "<h1 style=\"margin: auto; padding: 20px 0; color:#fff; text-align: center\">Machine Learning</h1>\n",
    "\n",
    "<h2 style=\"margin: auto; padding: 20px 0; color:#fff; text-align: center\">Détection automatique de faux billets</h2>\n",
    "\n",
    "</div>"
   ]
  },
  {
   "cell_type": "markdown",
   "id": "52d26892",
   "metadata": {},
   "source": [
    "<div style=\"border: 2px solid green; padding: 20px; color: green; border-radius: 8px;\">\n",
    "\n",
    "<h2 style=\"margin: auto;\">Etape 1 - Importation des bibliothèques</h2>\n",
    "\n",
    "</div>\n"
   ]
  },
  {
   "cell_type": "code",
   "execution_count": 2,
   "id": "f5b494ac",
   "metadata": {},
   "outputs": [],
   "source": [
    "import pandas as pd \n",
    "import numpy as np\n",
    "import seaborn as sns\n"
   ]
  },
  {
   "cell_type": "markdown",
   "id": "b43697e4",
   "metadata": {},
   "source": [
    "<div style=\"border: 2px solid green; padding: 20px; color: green; border-radius: 8px;\">\n",
    "\n",
    "<h2 style=\"margin: auto;\">Etape 2 -  Chargement et analyse exploratoire des données</h2>\n",
    "\n",
    "</div>\n"
   ]
  },
  {
   "cell_type": "code",
   "execution_count": 3,
   "id": "412ad9fd",
   "metadata": {},
   "outputs": [],
   "source": [
    "df=pd.read_csv(\"billets.csv\" ,sep =';')"
   ]
  },
  {
   "cell_type": "code",
   "execution_count": 4,
   "id": "fc41cdab",
   "metadata": {},
   "outputs": [
    {
     "data": {
      "text/html": [
       "<div>\n",
       "<style scoped>\n",
       "    .dataframe tbody tr th:only-of-type {\n",
       "        vertical-align: middle;\n",
       "    }\n",
       "\n",
       "    .dataframe tbody tr th {\n",
       "        vertical-align: top;\n",
       "    }\n",
       "\n",
       "    .dataframe thead th {\n",
       "        text-align: right;\n",
       "    }\n",
       "</style>\n",
       "<table border=\"1\" class=\"dataframe\">\n",
       "  <thead>\n",
       "    <tr style=\"text-align: right;\">\n",
       "      <th></th>\n",
       "      <th>is_genuine</th>\n",
       "      <th>diagonal</th>\n",
       "      <th>height_left</th>\n",
       "      <th>height_right</th>\n",
       "      <th>margin_low</th>\n",
       "      <th>margin_up</th>\n",
       "      <th>length</th>\n",
       "    </tr>\n",
       "  </thead>\n",
       "  <tbody>\n",
       "    <tr>\n",
       "      <th>0</th>\n",
       "      <td>True</td>\n",
       "      <td>171.81</td>\n",
       "      <td>104.86</td>\n",
       "      <td>104.95</td>\n",
       "      <td>4.52</td>\n",
       "      <td>2.89</td>\n",
       "      <td>112.83</td>\n",
       "    </tr>\n",
       "    <tr>\n",
       "      <th>1</th>\n",
       "      <td>True</td>\n",
       "      <td>171.46</td>\n",
       "      <td>103.36</td>\n",
       "      <td>103.66</td>\n",
       "      <td>3.77</td>\n",
       "      <td>2.99</td>\n",
       "      <td>113.09</td>\n",
       "    </tr>\n",
       "    <tr>\n",
       "      <th>2</th>\n",
       "      <td>True</td>\n",
       "      <td>172.69</td>\n",
       "      <td>104.48</td>\n",
       "      <td>103.50</td>\n",
       "      <td>4.40</td>\n",
       "      <td>2.94</td>\n",
       "      <td>113.16</td>\n",
       "    </tr>\n",
       "  </tbody>\n",
       "</table>\n",
       "</div>"
      ],
      "text/plain": [
       "   is_genuine  diagonal  height_left  height_right  margin_low  margin_up  \\\n",
       "0        True    171.81       104.86        104.95        4.52       2.89   \n",
       "1        True    171.46       103.36        103.66        3.77       2.99   \n",
       "2        True    172.69       104.48        103.50        4.40       2.94   \n",
       "\n",
       "   length  \n",
       "0  112.83  \n",
       "1  113.09  \n",
       "2  113.16  "
      ]
     },
     "execution_count": 4,
     "metadata": {},
     "output_type": "execute_result"
    }
   ],
   "source": [
    "df.head(3)"
   ]
  },
  {
   "cell_type": "markdown",
   "id": "b7c61fc9",
   "metadata": {},
   "source": [
    "- Analyse statistique du df"
   ]
  },
  {
   "cell_type": "code",
   "execution_count": 5,
   "id": "bf0618ad",
   "metadata": {},
   "outputs": [
    {
     "data": {
      "text/html": [
       "<div>\n",
       "<style scoped>\n",
       "    .dataframe tbody tr th:only-of-type {\n",
       "        vertical-align: middle;\n",
       "    }\n",
       "\n",
       "    .dataframe tbody tr th {\n",
       "        vertical-align: top;\n",
       "    }\n",
       "\n",
       "    .dataframe thead th {\n",
       "        text-align: right;\n",
       "    }\n",
       "</style>\n",
       "<table border=\"1\" class=\"dataframe\">\n",
       "  <thead>\n",
       "    <tr style=\"text-align: right;\">\n",
       "      <th></th>\n",
       "      <th>count</th>\n",
       "      <th>mean</th>\n",
       "      <th>std</th>\n",
       "      <th>min</th>\n",
       "      <th>25%</th>\n",
       "      <th>50%</th>\n",
       "      <th>75%</th>\n",
       "      <th>max</th>\n",
       "    </tr>\n",
       "  </thead>\n",
       "  <tbody>\n",
       "    <tr>\n",
       "      <th>diagonal</th>\n",
       "      <td>1500.0</td>\n",
       "      <td>171.958440</td>\n",
       "      <td>0.305195</td>\n",
       "      <td>171.04</td>\n",
       "      <td>171.750</td>\n",
       "      <td>171.96</td>\n",
       "      <td>172.17</td>\n",
       "      <td>173.01</td>\n",
       "    </tr>\n",
       "    <tr>\n",
       "      <th>height_left</th>\n",
       "      <td>1500.0</td>\n",
       "      <td>104.029533</td>\n",
       "      <td>0.299462</td>\n",
       "      <td>103.14</td>\n",
       "      <td>103.820</td>\n",
       "      <td>104.04</td>\n",
       "      <td>104.23</td>\n",
       "      <td>104.88</td>\n",
       "    </tr>\n",
       "    <tr>\n",
       "      <th>height_right</th>\n",
       "      <td>1500.0</td>\n",
       "      <td>103.920307</td>\n",
       "      <td>0.325627</td>\n",
       "      <td>102.82</td>\n",
       "      <td>103.710</td>\n",
       "      <td>103.92</td>\n",
       "      <td>104.15</td>\n",
       "      <td>104.95</td>\n",
       "    </tr>\n",
       "    <tr>\n",
       "      <th>margin_low</th>\n",
       "      <td>1463.0</td>\n",
       "      <td>4.485967</td>\n",
       "      <td>0.663813</td>\n",
       "      <td>2.98</td>\n",
       "      <td>4.015</td>\n",
       "      <td>4.31</td>\n",
       "      <td>4.87</td>\n",
       "      <td>6.90</td>\n",
       "    </tr>\n",
       "    <tr>\n",
       "      <th>margin_up</th>\n",
       "      <td>1500.0</td>\n",
       "      <td>3.151473</td>\n",
       "      <td>0.231813</td>\n",
       "      <td>2.27</td>\n",
       "      <td>2.990</td>\n",
       "      <td>3.14</td>\n",
       "      <td>3.31</td>\n",
       "      <td>3.91</td>\n",
       "    </tr>\n",
       "    <tr>\n",
       "      <th>length</th>\n",
       "      <td>1500.0</td>\n",
       "      <td>112.678500</td>\n",
       "      <td>0.872730</td>\n",
       "      <td>109.49</td>\n",
       "      <td>112.030</td>\n",
       "      <td>112.96</td>\n",
       "      <td>113.34</td>\n",
       "      <td>114.44</td>\n",
       "    </tr>\n",
       "  </tbody>\n",
       "</table>\n",
       "</div>"
      ],
      "text/plain": [
       "               count        mean       std     min      25%     50%     75%  \\\n",
       "diagonal      1500.0  171.958440  0.305195  171.04  171.750  171.96  172.17   \n",
       "height_left   1500.0  104.029533  0.299462  103.14  103.820  104.04  104.23   \n",
       "height_right  1500.0  103.920307  0.325627  102.82  103.710  103.92  104.15   \n",
       "margin_low    1463.0    4.485967  0.663813    2.98    4.015    4.31    4.87   \n",
       "margin_up     1500.0    3.151473  0.231813    2.27    2.990    3.14    3.31   \n",
       "length        1500.0  112.678500  0.872730  109.49  112.030  112.96  113.34   \n",
       "\n",
       "                 max  \n",
       "diagonal      173.01  \n",
       "height_left   104.88  \n",
       "height_right  104.95  \n",
       "margin_low      6.90  \n",
       "margin_up       3.91  \n",
       "length        114.44  "
      ]
     },
     "execution_count": 5,
     "metadata": {},
     "output_type": "execute_result"
    }
   ],
   "source": [
    "df.describe().T"
   ]
  },
  {
   "cell_type": "markdown",
   "id": "0643e7e0",
   "metadata": {},
   "source": [
    "- Idenitification des  variables numeriques et categorielles"
   ]
  },
  {
   "cell_type": "code",
   "execution_count": 6,
   "id": "831cef3f",
   "metadata": {},
   "outputs": [
    {
     "name": "stdout",
     "output_type": "stream",
     "text": [
      "['diagonal', 'height_left', 'height_right', 'margin_low', 'margin_up', 'length']\n",
      "[]\n"
     ]
    }
   ],
   "source": [
    "num = df. select_dtypes(include=['int64', 'float64']).columns\n",
    "print (list (num))\n",
    "cat = df.select_dtypes(include=['object']).columns\n",
    "print(list(cat))"
   ]
  },
  {
   "cell_type": "markdown",
   "id": "e893f79b",
   "metadata": {},
   "source": [
    "- identification de  la nature de chaque variable "
   ]
  },
  {
   "cell_type": "code",
   "execution_count": 7,
   "id": "e313ae1b",
   "metadata": {},
   "outputs": [
    {
     "data": {
      "text/plain": [
       "is_genuine         bool\n",
       "diagonal        float64\n",
       "height_left     float64\n",
       "height_right    float64\n",
       "margin_low      float64\n",
       "margin_up       float64\n",
       "length          float64\n",
       "dtype: object"
      ]
     },
     "execution_count": 7,
     "metadata": {},
     "output_type": "execute_result"
    }
   ],
   "source": [
    "df.dtypes"
   ]
  },
  {
   "cell_type": "markdown",
   "id": "5da358ff",
   "metadata": {},
   "source": [
    "<div style=\"border: 2px solid green; padding: 20px; color: green; border-radius: 8px;\">\n",
    "\n",
    "<h2 style=\"margin: auto;\">Etape 3 -  Nettoyage et preparation des données</h2>\n",
    "\n",
    "</div>\n"
   ]
  },
  {
   "cell_type": "code",
   "execution_count": 8,
   "id": "b3305050",
   "metadata": {},
   "outputs": [
    {
     "data": {
      "text/plain": [
       "Index(['is_genuine', 'diagonal', 'height_left', 'height_right', 'margin_low',\n",
       "       'margin_up', 'length'],\n",
       "      dtype='object')"
      ]
     },
     "execution_count": 8,
     "metadata": {},
     "output_type": "execute_result"
    }
   ],
   "source": [
    "#Retourner le noms des colones de mon data frame\n",
    "df.columns"
   ]
  },
  {
   "cell_type": "markdown",
   "id": "a55b5206",
   "metadata": {},
   "source": [
    "- identification des nan"
   ]
  },
  {
   "cell_type": "code",
   "execution_count": 9,
   "id": "a711a09c",
   "metadata": {},
   "outputs": [
    {
     "data": {
      "text/plain": [
       "is_genuine       0\n",
       "diagonal         0\n",
       "height_left      0\n",
       "height_right     0\n",
       "margin_low      37\n",
       "margin_up        0\n",
       "length           0\n",
       "dtype: int64"
      ]
     },
     "execution_count": 9,
     "metadata": {},
     "output_type": "execute_result"
    }
   ],
   "source": [
    "pd.isnull(df).sum()"
   ]
  },
  {
   "cell_type": "markdown",
   "id": "2a6b6072",
   "metadata": {},
   "source": [
    "- Valeur numerique remplacer par la mediane"
   ]
  },
  {
   "cell_type": "code",
   "execution_count": 10,
   "id": "53891b98",
   "metadata": {},
   "outputs": [],
   "source": [
    "df['margin_low'] = df['margin_low'].fillna(df['margin_low'].median())"
   ]
  },
  {
   "cell_type": "markdown",
   "id": "154cc7fd",
   "metadata": {},
   "source": [
    "- Identification des nan"
   ]
  },
  {
   "cell_type": "code",
   "execution_count": 11,
   "id": "39c811be",
   "metadata": {},
   "outputs": [
    {
     "data": {
      "text/plain": [
       "is_genuine      0\n",
       "diagonal        0\n",
       "height_left     0\n",
       "height_right    0\n",
       "margin_low      0\n",
       "margin_up       0\n",
       "length          0\n",
       "dtype: int64"
      ]
     },
     "execution_count": 11,
     "metadata": {},
     "output_type": "execute_result"
    }
   ],
   "source": [
    "pd.isnull(df).sum()"
   ]
  },
  {
   "cell_type": "markdown",
   "id": "91f173e2",
   "metadata": {},
   "source": [
    "<div style=\"border: 2px solid green; padding: 20px; color: green; border-radius: 8px;\">\n",
    "\n",
    "<h2 style=\"margin: auto;\">Etape 4 -  Visualisation</h2>\n",
    "\n",
    "</div>\n"
   ]
  },
  {
   "cell_type": "markdown",
   "id": "aaf0e3af",
   "metadata": {},
   "source": [
    "- realisez une variable univariée de la variable cible"
   ]
  },
  {
   "cell_type": "code",
   "execution_count": 12,
   "id": "48855dbd",
   "metadata": {},
   "outputs": [
    {
     "data": {
      "text/plain": [
       "True     1000\n",
       "False     500\n",
       "Name: is_genuine, dtype: int64"
      ]
     },
     "execution_count": 12,
     "metadata": {},
     "output_type": "execute_result"
    }
   ],
   "source": [
    "df[\"is_genuine\"].value_counts()"
   ]
  },
  {
   "cell_type": "code",
   "execution_count": 13,
   "id": "713f28be",
   "metadata": {},
   "outputs": [
    {
     "data": {
      "image/png": "[encoded data removed]",
      "text/plain": [
       "<Figure size 640x480 with 1 Axes>"
      ]
     },
     "metadata": {},
     "output_type": "display_data"
    }
   ],
   "source": [
    "import matplotlib.pyplot as plt\n",
    "sns.countplot(x=\"is_genuine\", data=df, palette=\"coolwarm\")\n",
    "plt.title(\"Répartition des faux billets\")\n",
    "plt.show()\n"
   ]
  },
  {
   "cell_type": "markdown",
   "id": "ae32d7f9",
   "metadata": {},
   "source": []
  },
  {
   "cell_type": "markdown",
   "id": "2450605d",
   "metadata": {},
   "source": [
    "- Correlation entre variables"
   ]
  },
  {
   "cell_type": "code",
   "execution_count": 14,
   "id": "73e9d497",
   "metadata": {},
   "outputs": [
    {
     "data": {
      "image/png": "[encoded data removed]",
      "text/plain": [
       "<Figure size 1000x600 with 2 Axes>"
      ]
     },
     "metadata": {},
     "output_type": "display_data"
    }
   ],
   "source": [
    "plt.figure(figsize=(10,6))\n",
    "sns.heatmap(df.corr(), annot=True, cmap='viridis')\n",
    "plt.title(\"Matrice de corrélation\")\n",
    "plt.show()\n"
   ]
  },
  {
   "cell_type": "markdown",
   "id": "018c5efc",
   "metadata": {},
   "source": [
    "<div style=\"border: 2px solid green; padding: 20px; color: green; border-radius: 8px;\">\n",
    "\n",
    "<h2 style=\"margin: auto;\">Etape 5 -  Modelisation</h2>\n",
    "\n",
    "</div>\n"
   ]
  },
  {
   "cell_type": "markdown",
   "id": "008f93f0",
   "metadata": {},
   "source": [
    "-  Informations sur les colonnes"
   ]
  },
  {
   "cell_type": "code",
   "execution_count": 15,
   "id": "cf7b2ced",
   "metadata": {},
   "outputs": [
    {
     "name": "stdout",
     "output_type": "stream",
     "text": [
      "<class 'pandas.core.frame.DataFrame'>\n",
      "RangeIndex: 1500 entries, 0 to 1499\n",
      "Data columns (total 7 columns):\n",
      " #   Column        Non-Null Count  Dtype  \n",
      "---  ------        --------------  -----  \n",
      " 0   is_genuine    1500 non-null   bool   \n",
      " 1   diagonal      1500 non-null   float64\n",
      " 2   height_left   1500 non-null   float64\n",
      " 3   height_right  1500 non-null   float64\n",
      " 4   margin_low    1500 non-null   float64\n",
      " 5   margin_up     1500 non-null   float64\n",
      " 6   length        1500 non-null   float64\n",
      "dtypes: bool(1), float64(6)\n",
      "memory usage: 71.9 KB\n"
     ]
    }
   ],
   "source": [
    "df.info()  # Types de données et valeurs manquantes"
   ]
  },
  {
   "cell_type": "code",
   "execution_count": 16,
   "id": "2176c036",
   "metadata": {},
   "outputs": [
    {
     "data": {
      "text/plain": [
       "True     1000\n",
       "False     500\n",
       "Name: is_genuine, dtype: int64"
      ]
     },
     "execution_count": 16,
     "metadata": {},
     "output_type": "execute_result"
    }
   ],
   "source": [
    "df[\"is_genuine\"].value_counts()"
   ]
  },
  {
   "cell_type": "code",
   "execution_count": 17,
   "id": "17dd430d",
   "metadata": {},
   "outputs": [
    {
     "data": {
      "text/plain": [
       "(1500, 7)"
      ]
     },
     "execution_count": 17,
     "metadata": {},
     "output_type": "execute_result"
    }
   ],
   "source": [
    "df.shape"
   ]
  },
  {
   "cell_type": "markdown",
   "id": "43797f7a",
   "metadata": {},
   "source": [
    "<div style=\" background-color: green\" >\n",
    "\n",
    "<h2 style=\"margin: auto; padding: 20px 0; color:#fff; text-align: center\"> 4.1- Construction du modéle</h2>\n",
    "\n",
    "</div>"
   ]
  },
  {
   "cell_type": "markdown",
   "id": "b28e0bb6",
   "metadata": {},
   "source": [
    "- Selectionner les variables indépendantes et la variable dépendante "
   ]
  },
  {
   "cell_type": "code",
   "execution_count": 18,
   "id": "de7d74c4",
   "metadata": {},
   "outputs": [],
   "source": [
    "X= df.drop(columns=['is_genuine'])\n",
    "y= df['is_genuine']"
   ]
  },
  {
   "cell_type": "markdown",
   "id": "5b6bc9c8",
   "metadata": {},
   "source": [
    "- Séparation du df en deux parties"
   ]
  },
  {
   "cell_type": "code",
   "execution_count": 19,
   "id": "8e84764d",
   "metadata": {},
   "outputs": [
    {
     "name": "stdout",
     "output_type": "stream",
     "text": [
      "X_train shape: (1200, 6)\n",
      "X_test shape: (300, 6)\n"
     ]
    }
   ],
   "source": [
    "from sklearn.model_selection import train_test_split\n",
    "X_train, X_test, y_train, y_test = train_test_split(X, y, test_size=0.2, random_state=0)\n",
    "print(\"X_train shape: {}\".format(X_train.shape))\n",
    "print(\"X_test shape: {}\".format(X_test.shape))"
   ]
  },
  {
   "cell_type": "markdown",
   "id": "731181cb",
   "metadata": {},
   "source": [
    "- Normalisation"
   ]
  },
  {
   "cell_type": "code",
   "execution_count": 20,
   "id": "3ebc942d",
   "metadata": {},
   "outputs": [
    {
     "name": "stdout",
     "output_type": "stream",
     "text": [
      "Shape X_train_scaled: (1200, 6)\n",
      "Shape X_test_scaled: (300, 6)\n"
     ]
    }
   ],
   "source": [
    "from sklearn.preprocessing import StandardScaler\n",
    "scaler = StandardScaler()\n",
    "X_train_scaled = scaler.fit_transform(X_train)\n",
    "X_test_scaled = scaler.transform(X_test)\n",
    "print(\"Shape X_train_scaled:\", X_train_scaled.shape)\n",
    "print(\"Shape X_test_scaled:\", X_test_scaled.shape)"
   ]
  },
  {
   "cell_type": "markdown",
   "id": "3af4b4fb",
   "metadata": {},
   "source": [
    "<div style=\" background-color: green\" >\n",
    "\n",
    "<h2 style=\"margin: auto; padding: 20px 0; color:#fff; text-align: center\"> 4.1.1- Regression logistique</h2>\n",
    "\n",
    "</div>"
   ]
  },
  {
   "cell_type": "code",
   "execution_count": 21,
   "id": "1ea363a2",
   "metadata": {},
   "outputs": [
    {
     "name": "stdout",
     "output_type": "stream",
     "text": [
      "Collecting imbalanced-learn\n",
      "  Downloading imbalanced_learn-0.12.4-py3-none-any.whl (258 kB)\n",
      "     ------------------------------------- 258.3/258.3 kB 30.5 kB/s eta 0:00:00\n",
      "Requirement already satisfied: threadpoolctl>=2.0.0 in c:\\users\\mamy deme\\anaconda3\\lib\\site-packages (from imbalanced-learn) (2.2.0)\n",
      "Collecting joblib>=1.1.1\n",
      "  Downloading joblib-1.5.2-py3-none-any.whl (308 kB)\n",
      "     ------------------------------------- 308.4/308.4 kB 10.9 kB/s eta 0:00:00\n",
      "Requirement already satisfied: scikit-learn>=1.0.2 in c:\\users\\mamy deme\\anaconda3\\lib\\site-packages (from imbalanced-learn) (1.0.2)\n",
      "Requirement already satisfied: scipy>=1.5.0 in c:\\users\\mamy deme\\anaconda3\\lib\\site-packages (from imbalanced-learn) (1.9.1)\n",
      "Requirement already satisfied: numpy>=1.17.3 in c:\\users\\mamy deme\\anaconda3\\lib\\site-packages (from imbalanced-learn) (1.21.5)\n",
      "Installing collected packages: joblib, imbalanced-learn\n",
      "  Attempting uninstall: joblib\n",
      "    Found existing installation: joblib 1.1.0\n",
      "    Uninstalling joblib-1.1.0:\n",
      "      Successfully uninstalled joblib-1.1.0\n",
      "Successfully installed imbalanced-learn-0.12.4 joblib-1.5.2\n"
     ]
    }
   ],
   "source": [
    "!pip install imbalanced-learn\n"
   ]
  },
  {
   "cell_type": "code",
   "execution_count": 22,
   "id": "77dbd873",
   "metadata": {},
   "outputs": [],
   "source": [
    "X = df.drop(columns=['is_genuine'])\n",
    "y = df['is_genuine']"
   ]
  },
  {
   "cell_type": "code",
   "execution_count": 23,
   "id": "d9ee9350",
   "metadata": {},
   "outputs": [],
   "source": [
    "# Séparation des données/train/test\n",
    "X_train, X_test, y_train, y_test = train_test_split(X, y, test_size=0.2, random_state=42)"
   ]
  },
  {
   "cell_type": "code",
   "execution_count": 24,
   "id": "bb6e547e",
   "metadata": {},
   "outputs": [
    {
     "name": "stdout",
     "output_type": "stream",
     "text": [
      "Répartition après SMOTE : {False: 800, True: 800}\n",
      "Seuil optimal basé sur F1-score : 0.5299033511453578\n",
      "\n",
      "Classification report :\n",
      "               precision    recall  f1-score   support\n",
      "\n",
      "       False       0.99      0.99      0.99       100\n",
      "        True       0.99      0.99      0.99       200\n",
      "\n",
      "    accuracy                           0.99       300\n",
      "   macro avg       0.99      0.99      0.99       300\n",
      "weighted avg       0.99      0.99      0.99       300\n",
      "\n",
      "\n",
      "Confusion matrix :\n",
      " [[ 99   1]\n",
      " [  1 199]]\n"
     ]
    },
    {
     "data": {
      "image/png": "[encoded data removed]",
      "text/plain": [
       "<Figure size 600x400 with 1 Axes>"
      ]
     },
     "metadata": {},
     "output_type": "display_data"
    }
   ],
   "source": [
    "from sklearn.model_selection import train_test_split\n",
    "from sklearn.preprocessing import StandardScaler\n",
    "from sklearn.linear_model import LogisticRegression\n",
    "from sklearn.metrics import classification_report, confusion_matrix, precision_recall_curve\n",
    "from imblearn.over_sampling import SMOTE\n",
    "import matplotlib.pyplot as plt\n",
    "import numpy as np\n",
    "\n",
    "# -----------------------------\n",
    "# 1️⃣ Split stratifié\n",
    "# -----------------------------\n",
    "X_train = X_train.drop(columns=['index_original'], errors='ignore')\n",
    "X_test = X_test.drop(columns=['index_original'], errors='ignore')\n",
    "\n",
    "X_train, X_test, y_train, y_test = train_test_split(\n",
    "    X, y, test_size=0.2, stratify=y, random_state=42\n",
    ")\n",
    "\n",
    "# -----------------------------\n",
    "# 2️⃣ Standardisation\n",
    "# -----------------------------\n",
    "scaler = StandardScaler()\n",
    "X_train_scaled = scaler.fit_transform(X_train)\n",
    "X_test_scaled = scaler.transform(X_test)\n",
    "\n",
    "# -----------------------------\n",
    "# 3️⃣ Appliquer SMOTE si besoin\n",
    "# -----------------------------\n",
    "apply_smote = True  # changer à False si tu veux tester sans SMOTE\n",
    "if apply_smote:\n",
    "    smote = SMOTE(random_state=42)\n",
    "    X_train_scaled, y_train = smote.fit_resample(X_train_scaled, y_train)\n",
    "    print(\"Répartition après SMOTE :\", dict(zip(*np.unique(y_train, return_counts=True))))\n",
    "\n",
    "# -----------------------------\n",
    "# 4️⃣ Créer et entraîner le modèle\n",
    "# -----------------------------\n",
    "model = LogisticRegression(\n",
    "    solver='saga',\n",
    "    max_iter=1000,\n",
    "    class_weight='balanced',\n",
    "    random_state=42\n",
    ")\n",
    "model.fit(X_train_scaled, y_train)\n",
    "\n",
    "# -----------------------------\n",
    "# 5️⃣ Prédictions probabilités\n",
    "# -----------------------------\n",
    "y_proba = model.predict_proba(X_test_scaled)[:,1]  # probabilité classe 1\n",
    "\n",
    "# -----------------------------\n",
    "# 6️⃣ Choisir seuil optimal basé sur le max F1-score\n",
    "# -----------------------------\n",
    "prec, rec, thresholds = precision_recall_curve(y_test, y_proba)\n",
    "f1_scores = 2 * (prec * rec) / (prec + rec)\n",
    "best_thresh = thresholds[np.argmax(f1_scores)]\n",
    "print(\"Seuil optimal basé sur F1-score :\", best_thresh)\n",
    "\n",
    "y_pred = (y_proba >= best_thresh).astype(int)\n",
    "\n",
    "# -----------------------------\n",
    "# 7️⃣ Évaluation\n",
    "# -----------------------------\n",
    "print(\"\\nClassification report :\\n\", classification_report(y_test, y_pred))\n",
    "print(\"\\nConfusion matrix :\\n\", confusion_matrix(y_test, y_pred))\n",
    "\n",
    "# -----------------------------\n",
    "# 8️⃣ Visualiser Precision/Recall vs Threshold\n",
    "# -----------------------------\n",
    "plt.figure(figsize=(6,4))\n",
    "plt.plot(thresholds, prec[:-1], label='Precision')\n",
    "plt.plot(thresholds, rec[:-1], label='Recall')\n",
    "plt.axvline(best_thresh, color='red', linestyle='--', label='Best threshold')\n",
    "plt.xlabel('Threshold')\n",
    "plt.ylabel('Score')\n",
    "plt.title('Precision/Recall vs Threshold')\n",
    "plt.legend()\n",
    "plt.show()"
   ]
  },
  {
   "cell_type": "code",
   "execution_count": 25,
   "id": "d41df8f1",
   "metadata": {},
   "outputs": [
    {
     "name": "stdout",
     "output_type": "stream",
     "text": [
      "Meilleurs paramètres : {'C': 0.1, 'penalty': 'l1', 'solver': 'saga'}\n"
     ]
    }
   ],
   "source": [
    "from sklearn.model_selection import GridSearchCV\n",
    "\n",
    "param_grid = {\n",
    "    'C': [0.01, 0.1, 1, 10],\n",
    "    'penalty': ['l1', 'l2'],\n",
    "    'solver': ['saga']\n",
    "}\n",
    "\n",
    "grid = GridSearchCV(LogisticRegression(\n",
    "    max_iter=2000,\n",
    "    class_weight='balanced'\n",
    "), param_grid, cv=5, scoring='f1')\n",
    "\n",
    "grid.fit(X_train_scaled, y_train)\n",
    "\n",
    "print(\"Meilleurs paramètres :\", grid.best_params_)\n",
    "best_model = grid.best_estimator_\n"
   ]
  },
  {
   "cell_type": "markdown",
   "id": "27dd6344",
   "metadata": {},
   "source": [
    "- Calculez l'accuracy du modele"
   ]
  },
  {
   "cell_type": "code",
   "execution_count": 26,
   "id": "221389fa",
   "metadata": {},
   "outputs": [
    {
     "name": "stdout",
     "output_type": "stream",
     "text": [
      "Précision du modèle : 0.9933333333333333\n"
     ]
    },
    {
     "data": {
      "text/plain": [
       "0.99"
      ]
     },
     "execution_count": 26,
     "metadata": {},
     "output_type": "execute_result"
    }
   ],
   "source": [
    "from sklearn.metrics import accuracy_score\n",
    "accuracy = accuracy_score(y_test, y_pred)\n",
    "print(\"Précision du modèle :\", accuracy)\n",
    "accuracy_2dec = round(accuracy, 2)\n",
    "accuracy_2dec"
   ]
  },
  {
   "cell_type": "markdown",
   "id": "5477741b",
   "metadata": {},
   "source": [
    "- Rapport de classification"
   ]
  },
  {
   "cell_type": "code",
   "execution_count": 27,
   "id": "af32c38f",
   "metadata": {},
   "outputs": [
    {
     "name": "stdout",
     "output_type": "stream",
     "text": [
      "\n",
      "Rapport de classification :\n",
      "              precision    recall  f1-score   support\n",
      "\n",
      "       False       0.99      0.99      0.99       100\n",
      "        True       0.99      0.99      0.99       200\n",
      "\n",
      "    accuracy                           0.99       300\n",
      "   macro avg       0.99      0.99      0.99       300\n",
      "weighted avg       0.99      0.99      0.99       300\n",
      "\n"
     ]
    }
   ],
   "source": [
    "from sklearn.metrics import classification_report\n",
    "print(\"\\nRapport de classification :\")\n",
    "print(classification_report(y_test, y_pred))"
   ]
  },
  {
   "cell_type": "code",
   "execution_count": 28,
   "id": "83060cdf",
   "metadata": {},
   "outputs": [
    {
     "data": {
      "text/html": [
       "<div>\n",
       "<style scoped>\n",
       "    .dataframe tbody tr th:only-of-type {\n",
       "        vertical-align: middle;\n",
       "    }\n",
       "\n",
       "    .dataframe tbody tr th {\n",
       "        vertical-align: top;\n",
       "    }\n",
       "\n",
       "    .dataframe thead th {\n",
       "        text-align: right;\n",
       "    }\n",
       "</style>\n",
       "<table border=\"1\" class=\"dataframe\">\n",
       "  <thead>\n",
       "    <tr style=\"text-align: right;\">\n",
       "      <th></th>\n",
       "      <th>b_reel</th>\n",
       "      <th>b_pred</th>\n",
       "    </tr>\n",
       "  </thead>\n",
       "  <tbody>\n",
       "    <tr>\n",
       "      <th>0</th>\n",
       "      <td>True</td>\n",
       "      <td>1</td>\n",
       "    </tr>\n",
       "    <tr>\n",
       "      <th>1</th>\n",
       "      <td>False</td>\n",
       "      <td>0</td>\n",
       "    </tr>\n",
       "    <tr>\n",
       "      <th>2</th>\n",
       "      <td>False</td>\n",
       "      <td>0</td>\n",
       "    </tr>\n",
       "    <tr>\n",
       "      <th>3</th>\n",
       "      <td>True</td>\n",
       "      <td>1</td>\n",
       "    </tr>\n",
       "    <tr>\n",
       "      <th>4</th>\n",
       "      <td>True</td>\n",
       "      <td>1</td>\n",
       "    </tr>\n",
       "    <tr>\n",
       "      <th>5</th>\n",
       "      <td>True</td>\n",
       "      <td>1</td>\n",
       "    </tr>\n",
       "    <tr>\n",
       "      <th>6</th>\n",
       "      <td>True</td>\n",
       "      <td>1</td>\n",
       "    </tr>\n",
       "    <tr>\n",
       "      <th>7</th>\n",
       "      <td>True</td>\n",
       "      <td>1</td>\n",
       "    </tr>\n",
       "    <tr>\n",
       "      <th>8</th>\n",
       "      <td>True</td>\n",
       "      <td>1</td>\n",
       "    </tr>\n",
       "    <tr>\n",
       "      <th>9</th>\n",
       "      <td>True</td>\n",
       "      <td>1</td>\n",
       "    </tr>\n",
       "  </tbody>\n",
       "</table>\n",
       "</div>"
      ],
      "text/plain": [
       "   b_reel  b_pred\n",
       "0    True       1\n",
       "1   False       0\n",
       "2   False       0\n",
       "3    True       1\n",
       "4    True       1\n",
       "5    True       1\n",
       "6    True       1\n",
       "7    True       1\n",
       "8    True       1\n",
       "9    True       1"
      ]
     },
     "execution_count": 28,
     "metadata": {},
     "output_type": "execute_result"
    }
   ],
   "source": [
    "df_compare = pd.DataFrame({\n",
    "    'b_reel': y_test.values,\n",
    "    'b_pred': y_pred\n",
    "})\n",
    "\n",
    "df_compare.head(10)"
   ]
  },
  {
   "cell_type": "markdown",
   "id": "4dc08dbf",
   "metadata": {},
   "source": [
    "<div style=\" background-color: green\" >\n",
    "\n",
    "<h2 style=\"margin: auto; padding: 20px 0; color:#fff; text-align: center\"> 4.1.2- K-means\n",
    "</h2>\n",
    "\n",
    "</div>"
   ]
  },
  {
   "cell_type": "markdown",
   "id": "ffa00ece",
   "metadata": {},
   "source": [
    "- Entrainnement du modéle"
   ]
  },
  {
   "cell_type": "code",
   "execution_count": 29,
   "id": "16a6e147",
   "metadata": {},
   "outputs": [
    {
     "data": {
      "text/plain": [
       "KMeans(n_clusters=2, random_state=42)"
      ]
     },
     "execution_count": 29,
     "metadata": {},
     "output_type": "execute_result"
    }
   ],
   "source": [
    "from sklearn.cluster import KMeans\n",
    "\n",
    "kmeans = KMeans(n_clusters=2, random_state=42)\n",
    "kmeans.fit(X_train_scaled)\n"
   ]
  },
  {
   "cell_type": "markdown",
   "id": "23288245",
   "metadata": {},
   "source": [
    "- Prédiction des clusters sur le jeu de test"
   ]
  },
  {
   "cell_type": "code",
   "execution_count": 30,
   "id": "0c48e947",
   "metadata": {},
   "outputs": [],
   "source": [
    "import pandas as pd\n",
    "\n",
    "train_clusters = pd.Series(kmeans.labels_, index=y_train.index)\n"
   ]
  },
  {
   "cell_type": "markdown",
   "id": "a06bd722",
   "metadata": {},
   "source": [
    "- Association clusters → classes vraies"
   ]
  },
  {
   "cell_type": "code",
   "execution_count": 31,
   "id": "ce1d7250",
   "metadata": {},
   "outputs": [],
   "source": [
    "mapping = train_clusters.to_frame(name='cluster') \\\n",
    "    .join(y_train.to_frame(name='class')) \\\n",
    "    .groupby('cluster')['class'] \\\n",
    "    .agg(lambda x: x.mode()[0])\n"
   ]
  },
  {
   "cell_type": "markdown",
   "id": "29a0d520",
   "metadata": {},
   "source": [
    "- Récupérer les clusters des données d’entraînement"
   ]
  },
  {
   "cell_type": "code",
   "execution_count": 32,
   "id": "52e9599e",
   "metadata": {},
   "outputs": [],
   "source": [
    "test_clusters = pd.Series(kmeans.predict(X_test_scaled))\n"
   ]
  },
  {
   "cell_type": "markdown",
   "id": "a60c2cf5",
   "metadata": {},
   "source": [
    "- Conversion des clusters en classes prédites grâce au mapping\n",
    "\n"
   ]
  },
  {
   "cell_type": "code",
   "execution_count": 33,
   "id": "2d4db450",
   "metadata": {},
   "outputs": [],
   "source": [
    "y_pred_kmeans = test_clusters.map(mapping).values\n"
   ]
  },
  {
   "cell_type": "markdown",
   "id": "489f962d",
   "metadata": {},
   "source": [
    "-  Calculez l'accuracy du modele"
   ]
  },
  {
   "cell_type": "code",
   "execution_count": 34,
   "id": "d65377bf",
   "metadata": {},
   "outputs": [
    {
     "name": "stdout",
     "output_type": "stream",
     "text": [
      "Précision du modèle K-Means : 0.99\n"
     ]
    }
   ],
   "source": [
    "from sklearn.metrics import accuracy_score\n",
    "\n",
    "accuracy = accuracy_score(y_test, y_pred_kmeans)\n",
    "print(f\"Précision du modèle K-Means : {accuracy:.2f}\")\n"
   ]
  },
  {
   "cell_type": "markdown",
   "id": "400452c7",
   "metadata": {},
   "source": [
    "<div style=\" background-color: green\" >\n",
    "\n",
    "<h2 style=\"margin: auto; padding: 20px 0; color:#fff; text-align: center\"> 4.1.3- KNN\n",
    "</h2>\n",
    "\n",
    "</div>"
   ]
  },
  {
   "cell_type": "code",
   "execution_count": 35,
   "id": "7e15c4b7",
   "metadata": {},
   "outputs": [],
   "source": [
    "from sklearn.neighbors import KNeighborsClassifier\n",
    "from sklearn.metrics import accuracy_score, confusion_matrix, classification_report"
   ]
  },
  {
   "cell_type": "markdown",
   "id": "e9590602",
   "metadata": {},
   "source": [
    "- Création et entraînement du modèle"
   ]
  },
  {
   "cell_type": "code",
   "execution_count": 36,
   "id": "84fbd5f3",
   "metadata": {},
   "outputs": [
    {
     "data": {
      "text/plain": [
       "KNeighborsClassifier()"
      ]
     },
     "execution_count": 36,
     "metadata": {},
     "output_type": "execute_result"
    }
   ],
   "source": [
    "knn_model = KNeighborsClassifier(n_neighbors=5)\n",
    "knn_model.fit(X_train_scaled, y_train)"
   ]
  },
  {
   "cell_type": "markdown",
   "id": "93210bab",
   "metadata": {},
   "source": [
    "- Prédiction"
   ]
  },
  {
   "cell_type": "code",
   "execution_count": 37,
   "id": "aeff4e5f",
   "metadata": {},
   "outputs": [],
   "source": [
    "import warnings\n",
    "warnings.simplefilter(action='ignore', category=FutureWarning)\n",
    "\n",
    "y_pred_knn = knn_model.predict(X_test_scaled)"
   ]
  },
  {
   "cell_type": "markdown",
   "id": "2718c25f",
   "metadata": {},
   "source": [
    "- Précision du modèle"
   ]
  },
  {
   "cell_type": "code",
   "execution_count": 38,
   "id": "2d1a88ec",
   "metadata": {},
   "outputs": [
    {
     "name": "stdout",
     "output_type": "stream",
     "text": [
      " Précision du modèle KNN : 0.99\n"
     ]
    }
   ],
   "source": [
    "accuracy_knn = accuracy_score(y_test, y_pred_knn)\n",
    "print(\" Précision du modèle KNN :\", round(accuracy_knn, 2))"
   ]
  },
  {
   "cell_type": "markdown",
   "id": "9b3992bc",
   "metadata": {},
   "source": [
    "-  Matrice de Confusion & Rapport de Classification :"
   ]
  },
  {
   "cell_type": "code",
   "execution_count": 39,
   "id": "bf9cc680",
   "metadata": {},
   "outputs": [
    {
     "name": "stdout",
     "output_type": "stream",
     "text": [
      "=== Évaluation KNN ===\n",
      "Matrice de confusion :\n",
      " [[ 99   1]\n",
      " [  3 197]]\n",
      "              precision    recall  f1-score   support\n",
      "\n",
      "       False       0.97      0.99      0.98       100\n",
      "        True       0.99      0.98      0.99       200\n",
      "\n",
      "    accuracy                           0.99       300\n",
      "   macro avg       0.98      0.99      0.99       300\n",
      "weighted avg       0.99      0.99      0.99       300\n",
      "\n"
     ]
    }
   ],
   "source": [
    "print(\"=== Évaluation KNN ===\")\n",
    "cm_knn = confusion_matrix(y_test, y_pred_knn)\n",
    "print(\"Matrice de confusion :\\n\", cm_knn)\n",
    "print(classification_report(y_test, y_pred_knn))"
   ]
  },
  {
   "cell_type": "markdown",
   "id": "9a8db3af",
   "metadata": {},
   "source": [
    "<div style=\" background-color: green\" >\n",
    "\n",
    "<h2 style=\"margin: auto; padding: 20px 0; color:#fff; text-align: center\"> 4.1.4- Random Forest\n",
    "</h2>\n",
    "\n",
    "</div>"
   ]
  },
  {
   "cell_type": "code",
   "execution_count": 40,
   "id": "1280a45e",
   "metadata": {},
   "outputs": [],
   "source": [
    "from sklearn.ensemble import RandomForestClassifier\n",
    "from sklearn.metrics import confusion_matrix, classification_report, accuracy_score"
   ]
  },
  {
   "cell_type": "markdown",
   "id": "e3daabb0",
   "metadata": {},
   "source": [
    "- Création et entraînement du modèle"
   ]
  },
  {
   "cell_type": "code",
   "execution_count": 41,
   "id": "259e4de9",
   "metadata": {},
   "outputs": [
    {
     "data": {
      "text/plain": [
       "RandomForestClassifier(random_state=42)"
      ]
     },
     "execution_count": 41,
     "metadata": {},
     "output_type": "execute_result"
    }
   ],
   "source": [
    "rf_model = RandomForestClassifier(n_estimators=100, random_state=42)\n",
    "rf_model.fit(X_train_scaled, y_train)"
   ]
  },
  {
   "cell_type": "markdown",
   "id": "e0c90b58",
   "metadata": {},
   "source": [
    "- Prédictions"
   ]
  },
  {
   "cell_type": "code",
   "execution_count": 42,
   "id": "1d0e4b9a",
   "metadata": {},
   "outputs": [],
   "source": [
    "y_pred_rf = rf_model.predict(X_test_scaled)"
   ]
  },
  {
   "cell_type": "markdown",
   "id": "76c64f26",
   "metadata": {},
   "source": [
    "- Évaluation"
   ]
  },
  {
   "cell_type": "code",
   "execution_count": 43,
   "id": "6ed7e5f0",
   "metadata": {},
   "outputs": [
    {
     "name": "stdout",
     "output_type": "stream",
     "text": [
      "Précision du modèle Random Forest : 0.99\n"
     ]
    }
   ],
   "source": [
    "accuracy_rf = accuracy_score(y_test, y_pred_rf)\n",
    "print(\"Précision du modèle Random Forest :\", round(accuracy_rf, 2))"
   ]
  },
  {
   "cell_type": "markdown",
   "id": "aca7e897",
   "metadata": {},
   "source": [
    "- Matrice de confusion"
   ]
  },
  {
   "cell_type": "code",
   "execution_count": 44,
   "id": "94a1073a",
   "metadata": {},
   "outputs": [
    {
     "name": "stdout",
     "output_type": "stream",
     "text": [
      "Matrice de confusion :\n",
      "[[ 98   2]\n",
      " [  2 198]]\n"
     ]
    }
   ],
   "source": [
    "print(\"Matrice de confusion :\")\n",
    "print(confusion_matrix(y_test, y_pred_rf))"
   ]
  },
  {
   "cell_type": "markdown",
   "id": "0906e558",
   "metadata": {},
   "source": [
    "- Rapport de classification"
   ]
  },
  {
   "cell_type": "code",
   "execution_count": 45,
   "id": "f3f1ffc2",
   "metadata": {},
   "outputs": [
    {
     "name": "stdout",
     "output_type": "stream",
     "text": [
      " Rapport de classification :\n",
      "              precision    recall  f1-score   support\n",
      "\n",
      "       False       0.98      0.98      0.98       100\n",
      "        True       0.99      0.99      0.99       200\n",
      "\n",
      "    accuracy                           0.99       300\n",
      "   macro avg       0.98      0.98      0.98       300\n",
      "weighted avg       0.99      0.99      0.99       300\n",
      "\n"
     ]
    }
   ],
   "source": [
    "print(\" Rapport de classification :\")\n",
    "print(classification_report(y_test, y_pred_rf))"
   ]
  },
  {
   "cell_type": "markdown",
   "id": "a6e7e646",
   "metadata": {},
   "source": [
    "- enregistrer le modele"
   ]
  },
  {
   "cell_type": "code",
   "execution_count": 47,
   "id": "f72fb4f6",
   "metadata": {},
   "outputs": [
    {
     "data": {
      "text/plain": [
       "['logistic_regression_model_v1_5_1_04_08_2025.sav']"
      ]
     },
     "execution_count": 47,
     "metadata": {},
     "output_type": "execute_result"
    }
   ],
   "source": [
    "import joblib\n",
    "\n",
    "model_filename ='logistic_regression_model_v1_5_1_04_08_2025.sav'\n",
    "\n",
    "joblib.dump(model,model_filename)"
   ]
  },
  {
   "cell_type": "markdown",
   "id": "a98abc80",
   "metadata": {},
   "source": [
    "- enregistrer la normalisation"
   ]
  },
  {
   "cell_type": "code",
   "execution_count": 48,
   "id": "7bdc34e1",
   "metadata": {},
   "outputs": [
    {
     "data": {
      "text/plain": [
       "['scaler_04_08_2025.sav']"
      ]
     },
     "execution_count": 48,
     "metadata": {},
     "output_type": "execute_result"
    }
   ],
   "source": [
    "scaler_filename = 'scaler_04_08_2025.sav'\n",
    "\n",
    "\n",
    "joblib.dump(scaler, scaler_filename)"
   ]
  },
  {
   "cell_type": "code",
   "execution_count": 49,
   "id": "c9631dc9",
   "metadata": {},
   "outputs": [
    {
     "name": "stdout",
     "output_type": "stream",
     "text": [
      "\n",
      "Classification report :\n",
      "               precision    recall  f1-score   support\n",
      "\n",
      "       False       0.99      0.99      0.99       100\n",
      "        True       0.99      0.99      0.99       200\n",
      "\n",
      "    accuracy                           0.99       300\n",
      "   macro avg       0.99      0.99      0.99       300\n",
      "weighted avg       0.99      0.99      0.99       300\n",
      "\n",
      "\n",
      "Confusion matrix :\n",
      " [[ 99   1]\n",
      " [  1 199]]\n"
     ]
    }
   ],
   "source": [
    " print(\"\\nClassification report :\\n\", classification_report(y_test, y_pred))\n",
    "print(\"\\nConfusion matrix :\\n\", confusion_matrix(y_test, y_pred))"
   ]
  },
  {
   "cell_type": "code",
   "execution_count": null,
   "id": "2ce748d9",
   "metadata": {},
   "outputs": [],
   "source": []
  },
  {
   "cell_type": "code",
   "execution_count": null,
   "id": "610e114d",
   "metadata": {},
   "outputs": [],
   "source": []
  },
  {
   "cell_type": "code",
   "execution_count": null,
   "id": "42072ab4",
   "metadata": {},
   "outputs": [],
   "source": []
  }
 ],
 "metadata": {
  "kernelspec": {
   "display_name": "Python 3 (ipykernel)",
   "language": "python",
   "name": "python3"
  },
  "language_info": {
   "codemirror_mode": {
    "name": "ipython",
    "version": 3
   },
   "file_extension": ".py",
   "mimetype": "text/x-python",
   "name": "python",
   "nbconvert_exporter": "python",
   "pygments_lexer": "ipython3",
   "version": "3.9.13"
  }
 },
 "nbformat": 4,
 "nbformat_minor": 5
}
